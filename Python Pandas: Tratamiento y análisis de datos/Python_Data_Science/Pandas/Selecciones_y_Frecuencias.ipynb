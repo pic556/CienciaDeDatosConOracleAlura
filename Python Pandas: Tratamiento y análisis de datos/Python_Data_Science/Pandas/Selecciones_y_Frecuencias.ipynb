{
  "nbformat": 4,
  "nbformat_minor": 0,
  "metadata": {
    "kernelspec": {
      "display_name": "Python 3",
      "language": "python",
      "name": "python3"
    },
    "language_info": {
      "codemirror_mode": {
        "name": "ipython",
        "version": 3
      },
      "file_extension": ".py",
      "mimetype": "text/x-python",
      "name": "python",
      "nbconvert_exporter": "python",
      "pygments_lexer": "ipython3",
      "version": "3.6.4"
    },
    "colab": {
      "name": "Selecciones y Frecuencias.ipynb",
      "provenance": [],
      "collapsed_sections": [],
      "toc_visible": true
    }
  },
  "cells": [
    {
      "cell_type": "markdown",
      "metadata": {
        "id": "9Dfl0iqaYG3I"
      },
      "source": [
        "# Reporte de Análisis IV"
      ]
    },
    {
      "cell_type": "markdown",
      "metadata": {
        "id": "6XQCs_AsYG3J"
      },
      "source": [
        "## Selecciones y Frecuencias"
      ]
    },
    {
      "cell_type": "code",
      "metadata": {
        "id": "Y3cYKI_MYG3J"
      },
      "source": [
        "import pandas as pd"
      ],
      "execution_count": 1,
      "outputs": []
    },
    {
      "cell_type": "code",
      "metadata": {
        "id": "iomn_MRQYG3K"
      },
      "source": [
        "datos = pd.read_csv('alquiler_residencial.csv', sep = ';')"
      ],
      "execution_count": 2,
      "outputs": []
    },
    {
      "cell_type": "code",
      "metadata": {
        "colab": {
          "base_uri": "https://localhost:8080/",
          "height": 347
        },
        "id": "E78jlQgNYG3K",
        "outputId": "f438f69d-1a91-4dda-8b67-d677be22a2ce"
      },
      "source": [
        "datos.head(10)"
      ],
      "execution_count": 3,
      "outputs": [
        {
          "output_type": "execute_result",
          "data": {
            "text/html": [
              "<div>\n",
              "<style scoped>\n",
              "    .dataframe tbody tr th:only-of-type {\n",
              "        vertical-align: middle;\n",
              "    }\n",
              "\n",
              "    .dataframe tbody tr th {\n",
              "        vertical-align: top;\n",
              "    }\n",
              "\n",
              "    .dataframe thead th {\n",
              "        text-align: right;\n",
              "    }\n",
              "</style>\n",
              "<table border=\"1\" class=\"dataframe\">\n",
              "  <thead>\n",
              "    <tr style=\"text-align: right;\">\n",
              "      <th></th>\n",
              "      <th>Tipo</th>\n",
              "      <th>Distrito</th>\n",
              "      <th>Cuartos</th>\n",
              "      <th>Vacantes</th>\n",
              "      <th>Suites</th>\n",
              "      <th>Area</th>\n",
              "      <th>Valor</th>\n",
              "      <th>Mantenimiento</th>\n",
              "      <th>Impuesto</th>\n",
              "    </tr>\n",
              "  </thead>\n",
              "  <tbody>\n",
              "    <tr>\n",
              "      <th>0</th>\n",
              "      <td>Habitación</td>\n",
              "      <td>San Borja</td>\n",
              "      <td>1</td>\n",
              "      <td>0</td>\n",
              "      <td>0</td>\n",
              "      <td>40</td>\n",
              "      <td>1700.0</td>\n",
              "      <td>500.0</td>\n",
              "      <td>60.0</td>\n",
              "    </tr>\n",
              "    <tr>\n",
              "      <th>1</th>\n",
              "      <td>Casa</td>\n",
              "      <td>Lurigancho</td>\n",
              "      <td>2</td>\n",
              "      <td>0</td>\n",
              "      <td>1</td>\n",
              "      <td>100</td>\n",
              "      <td>7000.0</td>\n",
              "      <td>NaN</td>\n",
              "      <td>NaN</td>\n",
              "    </tr>\n",
              "    <tr>\n",
              "      <th>2</th>\n",
              "      <td>Departamento</td>\n",
              "      <td>Pachacámac</td>\n",
              "      <td>1</td>\n",
              "      <td>0</td>\n",
              "      <td>0</td>\n",
              "      <td>15</td>\n",
              "      <td>800.0</td>\n",
              "      <td>390.0</td>\n",
              "      <td>20.0</td>\n",
              "    </tr>\n",
              "    <tr>\n",
              "      <th>3</th>\n",
              "      <td>Departamento</td>\n",
              "      <td>Ate</td>\n",
              "      <td>1</td>\n",
              "      <td>0</td>\n",
              "      <td>0</td>\n",
              "      <td>48</td>\n",
              "      <td>800.0</td>\n",
              "      <td>230.0</td>\n",
              "      <td>NaN</td>\n",
              "    </tr>\n",
              "    <tr>\n",
              "      <th>4</th>\n",
              "      <td>Departamento</td>\n",
              "      <td>Barranco</td>\n",
              "      <td>3</td>\n",
              "      <td>1</td>\n",
              "      <td>0</td>\n",
              "      <td>70</td>\n",
              "      <td>1200.0</td>\n",
              "      <td>NaN</td>\n",
              "      <td>NaN</td>\n",
              "    </tr>\n",
              "    <tr>\n",
              "      <th>5</th>\n",
              "      <td>Departamento</td>\n",
              "      <td>Comas</td>\n",
              "      <td>2</td>\n",
              "      <td>0</td>\n",
              "      <td>0</td>\n",
              "      <td>50</td>\n",
              "      <td>1300.0</td>\n",
              "      <td>301.0</td>\n",
              "      <td>17.0</td>\n",
              "    </tr>\n",
              "    <tr>\n",
              "      <th>6</th>\n",
              "      <td>Casa en condominio</td>\n",
              "      <td>Ate</td>\n",
              "      <td>5</td>\n",
              "      <td>4</td>\n",
              "      <td>5</td>\n",
              "      <td>750</td>\n",
              "      <td>22000.0</td>\n",
              "      <td>NaN</td>\n",
              "      <td>NaN</td>\n",
              "    </tr>\n",
              "    <tr>\n",
              "      <th>7</th>\n",
              "      <td>Casa en condominio</td>\n",
              "      <td>El Agustino</td>\n",
              "      <td>2</td>\n",
              "      <td>2</td>\n",
              "      <td>0</td>\n",
              "      <td>65</td>\n",
              "      <td>1000.0</td>\n",
              "      <td>NaN</td>\n",
              "      <td>NaN</td>\n",
              "    </tr>\n",
              "    <tr>\n",
              "      <th>8</th>\n",
              "      <td>Departamento</td>\n",
              "      <td>Pachacámac</td>\n",
              "      <td>1</td>\n",
              "      <td>0</td>\n",
              "      <td>0</td>\n",
              "      <td>36</td>\n",
              "      <td>1200.0</td>\n",
              "      <td>NaN</td>\n",
              "      <td>NaN</td>\n",
              "    </tr>\n",
              "    <tr>\n",
              "      <th>9</th>\n",
              "      <td>Departamento</td>\n",
              "      <td>Mi Perú</td>\n",
              "      <td>2</td>\n",
              "      <td>1</td>\n",
              "      <td>0</td>\n",
              "      <td>70</td>\n",
              "      <td>1500.0</td>\n",
              "      <td>642.0</td>\n",
              "      <td>74.0</td>\n",
              "    </tr>\n",
              "  </tbody>\n",
              "</table>\n",
              "</div>"
            ],
            "text/plain": [
              "                 Tipo     Distrito  Cuartos  ...    Valor  Mantenimiento  Impuesto\n",
              "0          Habitación    San Borja        1  ...   1700.0          500.0      60.0\n",
              "1                Casa   Lurigancho        2  ...   7000.0            NaN       NaN\n",
              "2        Departamento   Pachacámac        1  ...    800.0          390.0      20.0\n",
              "3        Departamento          Ate        1  ...    800.0          230.0       NaN\n",
              "4        Departamento     Barranco        3  ...   1200.0            NaN       NaN\n",
              "5        Departamento        Comas        2  ...   1300.0          301.0      17.0\n",
              "6  Casa en condominio          Ate        5  ...  22000.0            NaN       NaN\n",
              "7  Casa en condominio  El Agustino        2  ...   1000.0            NaN       NaN\n",
              "8        Departamento   Pachacámac        1  ...   1200.0            NaN       NaN\n",
              "9        Departamento      Mi Perú        2  ...   1500.0          642.0      74.0\n",
              "\n",
              "[10 rows x 9 columns]"
            ]
          },
          "metadata": {
            "tags": []
          },
          "execution_count": 3
        }
      ]
    },
    {
      "cell_type": "code",
      "metadata": {
        "colab": {
          "base_uri": "https://localhost:8080/"
        },
        "id": "PDCqN5FYYG3L",
        "outputId": "f5d462fc-3b74-4a7f-fdd9-316e23324412"
      },
      "source": [
        "# Seleccione solamente los inmuebles clasificados con tipo 'Departamento'\n",
        "seleccion = datos['Tipo'] == 'Departamento'\n",
        "n1 = datos[seleccion].shape[0]\n",
        "n1"
      ],
      "execution_count": 7,
      "outputs": [
        {
          "output_type": "execute_result",
          "data": {
            "text/plain": [
              "19532"
            ]
          },
          "metadata": {
            "tags": []
          },
          "execution_count": 7
        }
      ]
    },
    {
      "cell_type": "code",
      "metadata": {
        "colab": {
          "base_uri": "https://localhost:8080/"
        },
        "id": "JWFXww0bYG3L",
        "outputId": "fc885016-0c79-4a43-c8db-c18e959d835c"
      },
      "source": [
        "# Seleccione los inmuebles clasificados con tipos 'Casa', 'Casa en condominio' y 'Casa de villa'\n",
        "seleccion = (datos['Tipo'] == 'Casa') | (datos['Tipo'] == 'Casa en condominio') | (datos['Tipo'] == 'Casa de villa')\n",
        "n2 = datos[seleccion].shape[0]\n",
        "n2"
      ],
      "execution_count": 5,
      "outputs": [
        {
          "output_type": "execute_result",
          "data": {
            "text/plain": [
              "2212"
            ]
          },
          "metadata": {
            "tags": []
          },
          "execution_count": 5
        }
      ]
    },
    {
      "cell_type": "code",
      "metadata": {
        "colab": {
          "base_uri": "https://localhost:8080/"
        },
        "id": "N8HKcqZ5YG3L",
        "outputId": "89d55e3c-8fe4-4bbb-c236-e89263cb5f99"
      },
      "source": [
        "# Seleccione los inmuebles con área entre 60 y 100 metros cuadrados, incluyendo los limites\n",
        "# 60 <= Area <= 100\n",
        "seleccion = (datos['Area'] >= 60) & (datos['Area'] <= 100)\n",
        "n3 = datos[seleccion].shape[0]\n",
        "n3"
      ],
      "execution_count": 8,
      "outputs": [
        {
          "output_type": "execute_result",
          "data": {
            "text/plain": [
              "8719"
            ]
          },
          "metadata": {
            "tags": []
          },
          "execution_count": 8
        }
      ]
    },
    {
      "cell_type": "code",
      "metadata": {
        "colab": {
          "base_uri": "https://localhost:8080/"
        },
        "id": "F7R2XnVRYG3M",
        "outputId": "a280fd2c-38bf-42f8-f14c-9c291e598bc2"
      },
      "source": [
        "# Seleccione los inmuebles que tengan por lo menos 4 cuartos y alquiler menor que $2.000,00\n",
        "seleccion = (datos['Cuartos'] >= 4) & (datos['Valor'] < 2000)\n",
        "n4 = datos[seleccion].shape[0]\n",
        "n4"
      ],
      "execution_count": 9,
      "outputs": [
        {
          "output_type": "execute_result",
          "data": {
            "text/plain": [
              "41"
            ]
          },
          "metadata": {
            "tags": []
          },
          "execution_count": 9
        }
      ]
    },
    {
      "cell_type": "code",
      "metadata": {
        "colab": {
          "base_uri": "https://localhost:8080/"
        },
        "id": "rG8I3rWHYG3M",
        "outputId": "2f8d98e0-3810-4f67-95db-57640e991023"
      },
      "source": [
        "print(\"Nº de inmuebles clasificados con tipo 'Departamento' -> {}\".format(n1))\n",
        "print(\"Nº de inmuebles clasificados con tipos 'Casa', 'Casa en condominio' y 'Casa de villa' -> {}\".format(n2))\n",
        "print(\"Nº de inmuebles con área entre 60 y 100 metros cuadrados, incluyendo los limites -> {}\".format(n3))\n",
        "print(\"Nº de inmuebles que tengan por lo menos 4 cuartos y alquiler menor que $2.000,00 -> {}\".format(n4))"
      ],
      "execution_count": 10,
      "outputs": [
        {
          "output_type": "stream",
          "text": [
            "Nº de inmuebles clasificados con tipo 'Departamento' -> 19532\n",
            "Nº de inmuebles clasificados con tipos 'Casa', 'Casa en condominio' y 'Casa de villa' -> 2212\n",
            "Nº de inmuebles con área entre 60 y 100 metros cuadrados, incluyendo los limites -> 8719\n",
            "Nº de inmuebles que tengan por lo menos 4 cuartos y alquiler menor que $2.000,00 -> 41\n"
          ],
          "name": "stdout"
        }
      ]
    },
    {
      "cell_type": "code",
      "metadata": {
        "id": "JlgzDyRSYG3N"
      },
      "source": [
        ""
      ],
      "execution_count": null,
      "outputs": []
    }
  ]
}