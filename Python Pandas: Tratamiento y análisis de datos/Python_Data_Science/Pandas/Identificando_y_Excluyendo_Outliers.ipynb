{
 "cells": [
  {
   "cell_type": "markdown",
   "metadata": {
    "id": "9OSxb55m70Gl"
   },
   "source": [
    "# Reporte de Análisis VIII"
   ]
  },
  {
   "cell_type": "markdown",
   "metadata": {
    "id": "tIXpTxW_70Gn"
   },
   "source": [
    "## Identificando y Excluyendo Outliers"
   ]
  },
  {
   "cell_type": "code",
   "execution_count": 14,
   "metadata": {
    "id": "MTf9ybpL70Gn"
   },
   "outputs": [],
   "source": [
    "%matplotlib inline\n",
    "import pandas as pd\n",
    "import matplotlib.pyplot as plt\n",
    "plt.rc('figure', figsize = (14, 6))"
   ]
  },
  {
   "cell_type": "code",
   "execution_count": 10,
   "metadata": {
    "id": "RL3UEyz_70Gn"
   },
   "outputs": [],
   "source": [
    "datos = pd.read_csv('alquiler_residencial.csv', sep = ';')"
   ]
  },
  {
   "cell_type": "code",
   "execution_count": 20,
   "metadata": {
    "colab": {
     "base_uri": "https://localhost:8080/",
     "height": 287
    },
    "id": "jjfLigUntCyB",
    "outputId": "b21dc736-1763-482a-a3a5-c97b4c4ed217"
   },
   "outputs": [
    {
     "data": {
      "text/html": [
       "<div>\n",
       "<style scoped>\n",
       "    .dataframe tbody tr th:only-of-type {\n",
       "        vertical-align: middle;\n",
       "    }\n",
       "\n",
       "    .dataframe tbody tr th {\n",
       "        vertical-align: top;\n",
       "    }\n",
       "\n",
       "    .dataframe thead th {\n",
       "        text-align: right;\n",
       "    }\n",
       "</style>\n",
       "<table border=\"1\" class=\"dataframe\">\n",
       "  <thead>\n",
       "    <tr style=\"text-align: right;\">\n",
       "      <th></th>\n",
       "      <th>Cuartos</th>\n",
       "      <th>Vacantes</th>\n",
       "      <th>Suites</th>\n",
       "      <th>Area</th>\n",
       "      <th>Valor</th>\n",
       "      <th>Mantenimiento</th>\n",
       "      <th>Impuesto</th>\n",
       "    </tr>\n",
       "  </thead>\n",
       "  <tbody>\n",
       "    <tr>\n",
       "      <th>count</th>\n",
       "      <td>22580.0</td>\n",
       "      <td>22580.0</td>\n",
       "      <td>22580.0</td>\n",
       "      <td>22580.0</td>\n",
       "      <td>22571.0</td>\n",
       "      <td>20765.0</td>\n",
       "      <td>15795.0</td>\n",
       "    </tr>\n",
       "    <tr>\n",
       "      <th>mean</th>\n",
       "      <td>3.0</td>\n",
       "      <td>1.0</td>\n",
       "      <td>1.0</td>\n",
       "      <td>136.0</td>\n",
       "      <td>4986.0</td>\n",
       "      <td>1643.0</td>\n",
       "      <td>799.0</td>\n",
       "    </tr>\n",
       "    <tr>\n",
       "      <th>std</th>\n",
       "      <td>1.0</td>\n",
       "      <td>13.0</td>\n",
       "      <td>1.0</td>\n",
       "      <td>145.0</td>\n",
       "      <td>32451.0</td>\n",
       "      <td>45637.0</td>\n",
       "      <td>4486.0</td>\n",
       "    </tr>\n",
       "    <tr>\n",
       "      <th>min</th>\n",
       "      <td>0.0</td>\n",
       "      <td>0.0</td>\n",
       "      <td>0.0</td>\n",
       "      <td>10.0</td>\n",
       "      <td>100.0</td>\n",
       "      <td>1.0</td>\n",
       "      <td>1.0</td>\n",
       "    </tr>\n",
       "    <tr>\n",
       "      <th>25%</th>\n",
       "      <td>2.0</td>\n",
       "      <td>0.0</td>\n",
       "      <td>0.0</td>\n",
       "      <td>64.0</td>\n",
       "      <td>1500.0</td>\n",
       "      <td>572.0</td>\n",
       "      <td>96.0</td>\n",
       "    </tr>\n",
       "    <tr>\n",
       "      <th>50%</th>\n",
       "      <td>2.0</td>\n",
       "      <td>1.0</td>\n",
       "      <td>1.0</td>\n",
       "      <td>90.0</td>\n",
       "      <td>2700.0</td>\n",
       "      <td>940.0</td>\n",
       "      <td>220.0</td>\n",
       "    </tr>\n",
       "    <tr>\n",
       "      <th>75%</th>\n",
       "      <td>3.0</td>\n",
       "      <td>2.0</td>\n",
       "      <td>1.0</td>\n",
       "      <td>150.0</td>\n",
       "      <td>5300.0</td>\n",
       "      <td>1600.0</td>\n",
       "      <td>525.0</td>\n",
       "    </tr>\n",
       "    <tr>\n",
       "      <th>max</th>\n",
       "      <td>32.0</td>\n",
       "      <td>1960.0</td>\n",
       "      <td>14.0</td>\n",
       "      <td>3000.0</td>\n",
       "      <td>4500000.0</td>\n",
       "      <td>6552570.0</td>\n",
       "      <td>450625.0</td>\n",
       "    </tr>\n",
       "  </tbody>\n",
       "</table>\n",
       "</div>"
      ],
      "text/plain": [
       "       Cuartos  Vacantes   Suites     Area      Valor  Mantenimiento  Impuesto\n",
       "count  22580.0   22580.0  22580.0  22580.0    22571.0        20765.0   15795.0\n",
       "mean       3.0       1.0      1.0    136.0     4986.0         1643.0     799.0\n",
       "std        1.0      13.0      1.0    145.0    32451.0        45637.0    4486.0\n",
       "min        0.0       0.0      0.0     10.0      100.0            1.0       1.0\n",
       "25%        2.0       0.0      0.0     64.0     1500.0          572.0      96.0\n",
       "50%        2.0       1.0      1.0     90.0     2700.0          940.0     220.0\n",
       "75%        3.0       2.0      1.0    150.0     5300.0         1600.0     525.0\n",
       "max       32.0    1960.0     14.0   3000.0  4500000.0      6552570.0  450625.0"
      ]
     },
     "execution_count": 20,
     "metadata": {
      "tags": []
     },
     "output_type": "execute_result"
    }
   ],
   "source": [
    "datos.describe().round(0)"
   ]
  },
  {
   "cell_type": "code",
   "execution_count": 32,
   "metadata": {
    "colab": {
     "base_uri": "https://localhost:8080/",
     "height": 403
    },
    "id": "kEdGv1_O70Go",
    "outputId": "475febe2-d579-4ee6-9142-8198679d4e4f"
   },
   "outputs": [
    {
     "data": {
      "text/plain": [
       "(100.0, 4500000.0)"
      ]
     },
     "execution_count": 32,
     "metadata": {
      "tags": []
     },
     "output_type": "execute_result"
    },
    {
     "data": {
      "image/png": "[encoded data removed]",
      "text/plain": [
       "<Figure size 1008x432 with 1 Axes>"
      ]
     },
     "metadata": {
      "needs_background": "light",
      "tags": []
     },
     "output_type": "display_data"
    }
   ],
   "source": [
    "datos.boxplot(['Valor']).set_ylim((datos.Valor.min(), datos.Valor.max()))"
   ]
  },
  {
   "cell_type": "code",
   "execution_count": 33,
   "metadata": {
    "colab": {
     "base_uri": "https://localhost:8080/",
     "height": 197
    },
    "id": "jJgyV8Q570Go",
    "outputId": "c2437ad9-26b6-4d0b-d7f6-dc902bfe4e8d"
   },
   "outputs": [
    {
     "data": {
      "text/html": [
       "<div>\n",
       "<style scoped>\n",
       "    .dataframe tbody tr th:only-of-type {\n",
       "        vertical-align: middle;\n",
       "    }\n",
       "\n",
       "    .dataframe tbody tr th {\n",
       "        vertical-align: top;\n",
       "    }\n",
       "\n",
       "    .dataframe thead th {\n",
       "        text-align: right;\n",
       "    }\n",
       "</style>\n",
       "<table border=\"1\" class=\"dataframe\">\n",
       "  <thead>\n",
       "    <tr style=\"text-align: right;\">\n",
       "      <th></th>\n",
       "      <th>Tipo</th>\n",
       "      <th>Distrito</th>\n",
       "      <th>Cuartos</th>\n",
       "      <th>Vacantes</th>\n",
       "      <th>Suites</th>\n",
       "      <th>Area</th>\n",
       "      <th>Valor</th>\n",
       "      <th>Mantenimiento</th>\n",
       "      <th>Impuesto</th>\n",
       "    </tr>\n",
       "  </thead>\n",
       "  <tbody>\n",
       "    <tr>\n",
       "      <th>7894</th>\n",
       "      <td>Departamento</td>\n",
       "      <td>Ate</td>\n",
       "      <td>1</td>\n",
       "      <td>1</td>\n",
       "      <td>0</td>\n",
       "      <td>65</td>\n",
       "      <td>600000.0</td>\n",
       "      <td>980.0</td>\n",
       "      <td>120.0</td>\n",
       "    </tr>\n",
       "    <tr>\n",
       "      <th>11013</th>\n",
       "      <td>Casa en condominio</td>\n",
       "      <td>Callao</td>\n",
       "      <td>4</td>\n",
       "      <td>2</td>\n",
       "      <td>3</td>\n",
       "      <td>163</td>\n",
       "      <td>800000.0</td>\n",
       "      <td>900.0</td>\n",
       "      <td>NaN</td>\n",
       "    </tr>\n",
       "    <tr>\n",
       "      <th>13099</th>\n",
       "      <td>Departamento</td>\n",
       "      <td>Callao</td>\n",
       "      <td>2</td>\n",
       "      <td>2</td>\n",
       "      <td>1</td>\n",
       "      <td>150</td>\n",
       "      <td>550000.0</td>\n",
       "      <td>850.0</td>\n",
       "      <td>150.0</td>\n",
       "    </tr>\n",
       "    <tr>\n",
       "      <th>14325</th>\n",
       "      <td>Departamento</td>\n",
       "      <td>Jesús María</td>\n",
       "      <td>3</td>\n",
       "      <td>2</td>\n",
       "      <td>1</td>\n",
       "      <td>167</td>\n",
       "      <td>1250000.0</td>\n",
       "      <td>1186.0</td>\n",
       "      <td>320.0</td>\n",
       "    </tr>\n",
       "    <tr>\n",
       "      <th>16056</th>\n",
       "      <td>Departamento</td>\n",
       "      <td>Chorrillos</td>\n",
       "      <td>4</td>\n",
       "      <td>1</td>\n",
       "      <td>1</td>\n",
       "      <td>300</td>\n",
       "      <td>4500000.0</td>\n",
       "      <td>1100.0</td>\n",
       "      <td>NaN</td>\n",
       "    </tr>\n",
       "  </tbody>\n",
       "</table>\n",
       "</div>"
      ],
      "text/plain": [
       "                     Tipo     Distrito  ...  Mantenimiento  Impuesto\n",
       "7894         Departamento          Ate  ...          980.0     120.0\n",
       "11013  Casa en condominio       Callao  ...          900.0       NaN\n",
       "13099        Departamento       Callao  ...          850.0     150.0\n",
       "14325        Departamento  Jesús María  ...         1186.0     320.0\n",
       "16056        Departamento   Chorrillos  ...         1100.0       NaN\n",
       "\n",
       "[5 rows x 9 columns]"
      ]
     },
     "execution_count": 33,
     "metadata": {
      "tags": []
     },
     "output_type": "execute_result"
    }
   ],
   "source": [
    "datos[datos['Valor'] >= 500000]"
   ]
  },
  {
   "cell_type": "code",
   "execution_count": 34,
   "metadata": {
    "id": "PxyseUg-70Go"
   },
   "outputs": [],
   "source": [
    "valor = datos['Valor']"
   ]
  },
  {
   "cell_type": "code",
   "execution_count": 35,
   "metadata": {
    "id": "fdW7y76t70Gp"
   },
   "outputs": [],
   "source": [
    "Q1 = valor.quantile(.25)\n",
    "Q3 = valor.quantile(.75)\n",
    "IIQ = Q3 - Q1\n",
    "limite_inferior = Q1 - 1.5 * IIQ\n",
    "limite_superior = Q3 + 1.5 * IIQ"
   ]
  },
  {
   "cell_type": "code",
   "execution_count": 36,
   "metadata": {
    "id": "X2va6Qun70Gp"
   },
   "outputs": [],
   "source": [
    "seleccion = (valor >= limite_inferior) & (valor <= limite_superior)\n",
    "datos_new = datos[seleccion]"
   ]
  },
  {
   "cell_type": "code",
   "execution_count": 37,
   "metadata": {
    "colab": {
     "base_uri": "https://localhost:8080/",
     "height": 392
    },
    "id": "ZFZlCozL70Gp",
    "outputId": "24314843-0fa8-4e30-d28d-3ad295ee5186"
   },
   "outputs": [
    {
     "data": {
      "text/plain": [
       "<matplotlib.axes._subplots.AxesSubplot at 0x7f2a41342ba8>"
      ]
     },
     "execution_count": 37,
     "metadata": {
      "tags": []
     },
     "output_type": "execute_result"
    },
    {
     "data": {
      "image/png": "[encoded data removed]",
      "text/plain": [
       "<Figure size 1008x432 with 1 Axes>"
      ]
     },
     "metadata": {
      "needs_background": "light",
      "tags": []
     },
     "output_type": "display_data"
    }
   ],
   "source": [
    "datos_new.boxplot(['Valor'])"
   ]
  },
  {
   "cell_type": "code",
   "execution_count": 38,
   "metadata": {
    "colab": {
     "base_uri": "https://localhost:8080/",
     "height": 812
    },
    "id": "xTkTs4rT70Gp",
    "outputId": "b5584fef-7176-4ffe-ddb8-9d4255934732"
   },
   "outputs": [
    {
     "data": {
      "text/plain": [
       "array([[<matplotlib.axes._subplots.AxesSubplot object at 0x7f2a41619d30>]],\n",
       "      dtype=object)"
      ]
     },
     "execution_count": 38,
     "metadata": {
      "tags": []
     },
     "output_type": "execute_result"
    },
    {
     "data": {
      "image/png": "[encoded data removed]",
      "text/plain": [
       "<Figure size 1008x432 with 1 Axes>"
      ]
     },
     "metadata": {
      "needs_background": "light",
      "tags": []
     },
     "output_type": "display_data"
    },
    {
     "data": {
      "image/png": "[encoded data removed]",
      "text/plain": [
       "<Figure size 1008x432 with 1 Axes>"
      ]
     },
     "metadata": {
      "needs_background": "light",
      "tags": []
     },
     "output_type": "display_data"
    }
   ],
   "source": [
    "datos.hist(['Valor'])\n",
    "datos_new.hist(['Valor'])"
   ]
  },
  {
   "cell_type": "markdown",
   "metadata": {
    "id": "hiLBjEd970Gq"
   },
   "source": [
    "## Identificando y Excluyendo Outliers (continuación)"
   ]
  },
  {
   "cell_type": "code",
   "execution_count": 40,
   "metadata": {
    "colab": {
     "base_uri": "https://localhost:8080/",
     "height": 495
    },
    "id": "trGNDF2Z70Gq",
    "outputId": "d6f5994a-010d-4953-8151-f663dbb9411d"
   },
   "outputs": [
    {
     "name": "stderr",
     "output_type": "stream",
     "text": [
      "/usr/local/lib/python3.6/dist-packages/numpy/core/_asarray.py:83: VisibleDeprecationWarning: Creating an ndarray from ragged nested sequences (which is a list-or-tuple of lists-or-tuples-or ndarrays with different lengths or shapes) is deprecated. If you meant to do this, you must specify 'dtype=object' when creating the ndarray\n",
      "  return array(a, dtype, copy=False, order=order)\n"
     ]
    },
    {
     "data": {
      "text/plain": [
       "(100.0, 4500000.0)"
      ]
     },
     "execution_count": 40,
     "metadata": {
      "tags": []
     },
     "output_type": "execute_result"
    },
    {
     "data": {
      "image/png": "[encoded data removed]",
      "text/plain": [
       "<Figure size 1008x432 with 1 Axes>"
      ]
     },
     "metadata": {
      "needs_background": "light",
      "tags": []
     },
     "output_type": "display_data"
    }
   ],
   "source": [
    "datos.boxplot(['Valor'], by = ['Tipo']).set_ylim((datos.Valor.min(), datos.Valor.max()))"
   ]
  },
  {
   "cell_type": "code",
   "execution_count": 41,
   "metadata": {
    "id": "_BZMLL-j70Gq"
   },
   "outputs": [],
   "source": [
    "grupo_tipo = datos.groupby('Tipo')['Valor']"
   ]
  },
  {
   "cell_type": "code",
   "execution_count": 42,
   "metadata": {
    "colab": {
     "base_uri": "https://localhost:8080/"
    },
    "id": "unbM7K__70Gq",
    "outputId": "a56d411e-61fd-43df-f197-29ec0bccaf95"
   },
   "outputs": [
    {
     "data": {
      "text/plain": [
       "pandas.core.groupby.generic.SeriesGroupBy"
      ]
     },
     "execution_count": 42,
     "metadata": {
      "tags": []
     },
     "output_type": "execute_result"
    }
   ],
   "source": [
    "type(grupo_tipo)"
   ]
  },
  {
   "cell_type": "code",
   "execution_count": 43,
   "metadata": {
    "colab": {
     "base_uri": "https://localhost:8080/"
    },
    "id": "ihQQXZ7G70Gr",
    "outputId": "ed843202-084a-48fe-bcb9-a69aafc828bc"
   },
   "outputs": [
    {
     "data": {
      "text/plain": [
       "{'Casa': [1, 24, 56, 60, 100, 104, 150, 166, 188, 248, 260, 263, 274, 297, 321, 327, 345, 350, 368, 389, 396, 410, 436, 446, 486, 487, 493, 526, 558, 559, 583, 587, 588, 636, 639, 648, 654, 655, 680, 697, 721, 742, 745, 781, 792, 802, 880, 897, 962, 1011, 1059, 1066, 1149, 1154, 1156, 1189, 1211, 1284, 1291, 1354, 1373, 1388, 1409, 1451, 1465, 1469, 1480, 1485, 1513, 1516, 1530, 1630, 1649, 1683, 1705, 1711, 1715, 1721, 1734, 1760, 1768, 1815, 1865, 1890, 1930, 1961, 1989, 1998, 2017, 2082, 2102, 2119, 2139, 2165, 2171, 2172, 2199, 2238, 2270, 2273, ...], 'Casa de villa': [85, 222, 230, 314, 343, 718, 846, 868, 943, 1042, 1391, 1400, 1487, 1533, 1596, 1686, 1719, 1754, 1824, 2151, 2320, 2338, 2519, 2609, 2624, 2682, 2718, 2809, 2927, 2962, 3072, 3079, 3112, 3120, 3404, 3535, 3632, 3822, 3946, 3981, 3984, 3989, 4230, 4283, 4290, 4302, 4481, 4592, 4984, 5321, 5342, 5347, 5371, 5471, 5591, 5721, 5787, 5916, 5945, 6111, 6150, 6198, 6211, 6235, 6253, 6411, 6448, 6515, 6565, 6620, 6647, 6989, 7030, 7178, 7196, 7274, 7335, 7391, 7550, 7963, 7979, 8048, 8109, 8115, 8244, 8282, 8415, 8720, 8746, 8876, 9548, 9553, 9640, 9806, 9956, 9963, 10062, 10085, 10131, 10216, ...], 'Casa en condominio': [6, 7, 14, 18, 44, 61, 172, 174, 191, 217, 232, 256, 269, 275, 290, 302, 319, 347, 402, 412, 452, 457, 461, 517, 572, 627, 640, 677, 683, 694, 728, 744, 803, 831, 833, 887, 908, 912, 959, 983, 987, 1008, 1015, 1021, 1034, 1038, 1058, 1112, 1125, 1142, 1160, 1180, 1190, 1215, 1255, 1262, 1264, 1274, 1281, 1345, 1350, 1358, 1379, 1394, 1445, 1478, 1479, 1508, 1537, 1574, 1604, 1626, 1645, 1660, 1694, 1764, 1774, 1781, 1809, 1817, 1825, 1857, 1915, 1935, 1938, 1955, 1994, 2094, 2096, 2135, 2220, 2236, 2269, 2294, 2317, 2319, 2399, 2405, 2430, 2444, ...], 'Departamento': [2, 3, 4, 5, 8, 9, 10, 11, 13, 15, 16, 17, 19, 20, 21, 22, 23, 25, 26, 27, 28, 29, 31, 32, 33, 34, 35, 36, 37, 38, 39, 40, 41, 42, 43, 45, 46, 47, 48, 49, 50, 51, 52, 53, 54, 55, 57, 58, 59, 62, 63, 64, 65, 66, 67, 68, 69, 70, 71, 72, 73, 75, 76, 77, 78, 79, 80, 82, 83, 84, 86, 87, 88, 89, 91, 92, 93, 94, 95, 96, 97, 98, 99, 101, 102, 103, 106, 107, 108, 109, 110, 111, 112, 113, 114, 115, 116, 117, 118, 119, ...], 'Habitación': [0, 12, 30, 74, 81, 90, 105, 125, 152, 181, 200, 216, 233, 258, 312, 325, 338, 355, 366, 437, 438, 439, 472, 499, 547, 651, 670, 701, 832, 894, 942, 944, 949, 953, 964, 969, 996, 1031, 1046, 1074, 1100, 1188, 1202, 1204, 1217, 1226, 1230, 1247, 1252, 1296, 1309, 1372, 1389, 1398, 1431, 1443, 1446, 1524, 1538, 1552, 1586, 1639, 1656, 1658, 1679, 1746, 1747, 1757, 1786, 1806, 1827, 1879, 1894, 1908, 1966, 2075, 2149, 2162, 2190, 2210, 2217, 2224, 2228, 2297, 2307, 2310, 2329, 2343, 2398, 2435, 2455, 2456, 2457, 2467, 2518, 2530, 2535, 2567, 2583, 2707, ...]}"
      ]
     },
     "execution_count": 43,
     "metadata": {
      "tags": []
     },
     "output_type": "execute_result"
    }
   ],
   "source": [
    "grupo_tipo.groups"
   ]
  },
  {
   "cell_type": "code",
   "execution_count": 44,
   "metadata": {
    "id": "f4kXGWzO70Gr"
   },
   "outputs": [],
   "source": [
    "Q1 = grupo_tipo.quantile(.25)\n",
    "Q3 = grupo_tipo.quantile(.75)\n",
    "IIQ = Q3 - Q1\n",
    "limite_inferior = Q1 - 1.5 * IIQ\n",
    "limite_superior = Q3 + 1.5 * IIQ"
   ]
  },
  {
   "cell_type": "code",
   "execution_count": 45,
   "metadata": {
    "colab": {
     "base_uri": "https://localhost:8080/"
    },
    "id": "gLPTZ8tf70Gr",
    "outputId": "79d26aa5-ba53-481a-e1c1-5470afcf2578"
   },
   "outputs": [
    {
     "data": {
      "text/plain": [
       "Tipo\n",
       "Casa                  1100.0\n",
       "Casa de villa          750.0\n",
       "Casa en condominio    4000.0\n",
       "Departamento          1600.0\n",
       "Habitación             900.0\n",
       "Name: Valor, dtype: float64"
      ]
     },
     "execution_count": 45,
     "metadata": {
      "tags": []
     },
     "output_type": "execute_result"
    }
   ],
   "source": [
    "Q1"
   ]
  },
  {
   "cell_type": "code",
   "execution_count": 46,
   "metadata": {
    "colab": {
     "base_uri": "https://localhost:8080/"
    },
    "id": "o8gtZPJ970Gr",
    "outputId": "373628b4-434a-4bfe-a121-4546971eb3f2"
   },
   "outputs": [
    {
     "data": {
      "text/plain": [
       "Tipo\n",
       "Casa                   9800.0\n",
       "Casa de villa          1800.0\n",
       "Casa en condominio    15250.0\n",
       "Departamento           5000.0\n",
       "Habitación             1500.0\n",
       "Name: Valor, dtype: float64"
      ]
     },
     "execution_count": 46,
     "metadata": {
      "tags": []
     },
     "output_type": "execute_result"
    }
   ],
   "source": [
    "Q3"
   ]
  },
  {
   "cell_type": "code",
   "execution_count": 47,
   "metadata": {
    "colab": {
     "base_uri": "https://localhost:8080/"
    },
    "id": "6C81k6Oq70Gs",
    "outputId": "02f310cb-986c-418d-d1ab-4c91457057bc"
   },
   "outputs": [
    {
     "data": {
      "text/plain": [
       "Tipo\n",
       "Casa                   8700.0\n",
       "Casa de villa          1050.0\n",
       "Casa en condominio    11250.0\n",
       "Departamento           3400.0\n",
       "Habitación              600.0\n",
       "Name: Valor, dtype: float64"
      ]
     },
     "execution_count": 47,
     "metadata": {
      "tags": []
     },
     "output_type": "execute_result"
    }
   ],
   "source": [
    "IIQ"
   ]
  },
  {
   "cell_type": "code",
   "execution_count": 48,
   "metadata": {
    "colab": {
     "base_uri": "https://localhost:8080/"
    },
    "id": "1pXnoymR70Gs",
    "outputId": "198fb793-b78b-4c5a-a813-af7e8ab62572"
   },
   "outputs": [
    {
     "data": {
      "text/plain": [
       "Tipo\n",
       "Casa                 -11950.0\n",
       "Casa de villa          -825.0\n",
       "Casa en condominio   -12875.0\n",
       "Departamento          -3500.0\n",
       "Habitación                0.0\n",
       "Name: Valor, dtype: float64"
      ]
     },
     "execution_count": 48,
     "metadata": {
      "tags": []
     },
     "output_type": "execute_result"
    }
   ],
   "source": [
    "limite_inferior"
   ]
  },
  {
   "cell_type": "code",
   "execution_count": 49,
   "metadata": {
    "colab": {
     "base_uri": "https://localhost:8080/"
    },
    "id": "vgwGcgzD70Gs",
    "outputId": "3035f3e4-8838-4bfd-eee5-6a2ab89eaf0f"
   },
   "outputs": [
    {
     "data": {
      "text/plain": [
       "Tipo\n",
       "Casa                  22850.0\n",
       "Casa de villa          3375.0\n",
       "Casa en condominio    32125.0\n",
       "Departamento          10100.0\n",
       "Habitación             2400.0\n",
       "Name: Valor, dtype: float64"
      ]
     },
     "execution_count": 49,
     "metadata": {
      "tags": []
     },
     "output_type": "execute_result"
    }
   ],
   "source": [
    "limite_superior"
   ]
  },
  {
   "cell_type": "code",
   "execution_count": 50,
   "metadata": {
    "colab": {
     "base_uri": "https://localhost:8080/"
    },
    "id": "_rGdaiRO70Gs",
    "outputId": "a9824137-a8b8-4a76-876f-fd03c3cf062f"
   },
   "outputs": [
    {
     "data": {
      "text/plain": [
       "22850.0"
      ]
     },
     "execution_count": 50,
     "metadata": {
      "tags": []
     },
     "output_type": "execute_result"
    }
   ],
   "source": [
    "limite_superior['Casa']"
   ]
  },
  {
   "cell_type": "code",
   "execution_count": 51,
   "metadata": {
    "id": "eX-Zt8vY70Gt"
   },
   "outputs": [],
   "source": [
    "datos_new = pd.DataFrame()\n",
    "for tipo in grupo_tipo.groups.keys():\n",
    "    eh_tipo = datos['Tipo'] == tipo\n",
    "    eh_dentro_limite = (datos['Valor'] >= limite_inferior[tipo]) & (datos['Valor'] <= limite_superior[tipo])\n",
    "    seleccion = eh_tipo & eh_dentro_limite\n",
    "    datos_seleccion = datos[seleccion]\n",
    "    datos_new = pd.concat([datos_new, datos_seleccion])"
   ]
  },
  {
   "cell_type": "code",
   "execution_count": 52,
   "metadata": {
    "colab": {
     "base_uri": "https://localhost:8080/",
     "height": 495
    },
    "id": "4jbPQ6Hx70Gt",
    "outputId": "2e89e711-65c4-40ae-821e-c8e8f1d594f2"
   },
   "outputs": [
    {
     "name": "stderr",
     "output_type": "stream",
     "text": [
      "/usr/local/lib/python3.6/dist-packages/numpy/core/_asarray.py:83: VisibleDeprecationWarning: Creating an ndarray from ragged nested sequences (which is a list-or-tuple of lists-or-tuples-or ndarrays with different lengths or shapes) is deprecated. If you meant to do this, you must specify 'dtype=object' when creating the ndarray\n",
      "  return array(a, dtype, copy=False, order=order)\n"
     ]
    },
    {
     "data": {
      "text/plain": [
       "<matplotlib.axes._subplots.AxesSubplot at 0x7f2a41a89d68>"
      ]
     },
     "execution_count": 52,
     "metadata": {
      "tags": []
     },
     "output_type": "execute_result"
    },
    {
     "data": {
      "image/png": "[encoded data removed]",
      "text/plain": [
       "<Figure size 1008x432 with 1 Axes>"
      ]
     },
     "metadata": {
      "needs_background": "light",
      "tags": []
     },
     "output_type": "display_data"
    }
   ],
   "source": [
    "datos_new.boxplot(['Valor'], by = ['Tipo'])"
   ]
  },
  {
   "cell_type": "code",
   "execution_count": 53,
   "metadata": {
    "id": "NYSp1AzT70Gt"
   },
   "outputs": [],
   "source": [
    "datos_new.to_csv('alquiler_residencial_sin_outliers.csv', sep = ';', index = False)"
   ]
  },
  {
   "cell_type": "code",
   "execution_count": null,
   "metadata": {
    "id": "dG1_kmp170Gt"
   },
   "outputs": [],
   "source": []
  }
 ],
 "metadata": {
  "colab": {
   "collapsed_sections": [],
   "name": "Identificando y Excluyendo Outliers.ipynb",
   "provenance": [],
   "toc_visible": true
  },
  "kernelspec": {
   "display_name": "Python 3",
   "language": "python",
   "name": "python3"
  },
  "language_info": {
   "codemirror_mode": {
    "name": "ipython",
    "version": 3
   },
   "file_extension": ".py",
   "mimetype": "text/x-python",
   "name": "python",
   "nbconvert_exporter": "python",
   "pygments_lexer": "ipython3",
   "version": "3.8.5"
  }
 },
 "nbformat": 4,
 "nbformat_minor": 1
}
